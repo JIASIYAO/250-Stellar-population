{
 "cells": [
  {
   "cell_type": "markdown",
   "metadata": {},
   "source": [
    "Problem 4\n",
    "\n",
    "(a)"
   ]
  },
  {
   "cell_type": "code",
   "execution_count": 1,
   "metadata": {
    "collapsed": true
   },
   "outputs": [],
   "source": [
    "%matplotlib inline\n",
    "import numpy as np\n",
    "from scipy import stats\n",
    "from scipy.optimize import curve_fit\n",
    "import matplotlib.pyplot as plt\n",
    "import emcee\n",
    "import corner\n",
    "import pdb"
   ]
  },
  {
   "cell_type": "code",
   "execution_count": 11,
   "metadata": {
    "collapsed": true
   },
   "outputs": [],
   "source": [
    "def make_lognorm(m_min, m_max, N):\n",
    "    \"\"\"\n",
    "    generate fake data that follows the log normal distribution as showed in Equ(3)\"\"\"\n",
    "    mu = 0.08\n",
    "    sig = 0.69\n",
    "    c = 0.15*np.sqrt(2*np.pi)*sig\n",
    "    data = []\n",
    "    while len(data)<N:\n",
    "        m = np.random.lognormal(mu, sig)*c\n",
    "        #pdb.set_trace()\n",
    "        if (m>m_min) & (m<m_max):\n",
    "            data.append(m)\n",
    "    return np.array(data)"
   ]
  },
  {
   "cell_type": "code",
   "execution_count": 12,
   "metadata": {
    "collapsed": false
   },
   "outputs": [
    {
     "data": {
      "text/plain": [
       "(array([ 1673.,  1515.,  1289.,  1132.,   976.,   824.,   799.,   664.,\n",
       "          601.,   527.]),\n",
       " array([ 0.50000371,  0.52999752,  0.55999133,  0.58998514,  0.61997895,\n",
       "         0.64997277,  0.67996658,  0.70996039,  0.7399542 ,  0.76994801,\n",
       "         0.79994182]),\n",
       " <a list of 10 Patch objects>)"
      ]
     },
     "execution_count": 12,
     "metadata": {},
     "output_type": "execute_result"
    },
    {
     "data": {
      "image/png": "[encoded data removed]",
      "text/plain": [
       "<matplotlib.figure.Figure at 0x10f6f92e8>"
      ]
     },
     "metadata": {},
     "output_type": "display_data"
    }
   ],
   "source": [
    "data = make_lognorm(0.5, 0.8, 10000)\n",
    "plt.clf()\n",
    "plt.hist(data)"
   ]
  },
  {
   "cell_type": "markdown",
   "metadata": {},
   "source": [
    "(b)"
   ]
  },
  {
   "cell_type": "code",
   "execution_count": 13,
   "metadata": {
    "collapsed": true
   },
   "outputs": [],
   "source": [
    "def ln_prior(theta):\n",
    "    \"\"\"\n",
    "    assume a flat posterior\"\"\"\n",
    "    m_min = 0.5\n",
    "    m_max = theta[0]\n",
    "    alpha = theta[1]\n",
    "    if (m_max>50) or (alpha>10) or (alpha<0):\n",
    "        return -1000\n",
    "    else:\n",
    "        return 0\n",
    "\n",
    "def pl(m, m_min, m_max, alpha):\n",
    "    \"\"\"\n",
    "    return the power law given m.\"\"\"\n",
    "    #pdb.set_trace()\n",
    "    if alpha == 1:\n",
    "        pl_m = (m*np.log(m_max/m_min))**(-1)\n",
    "    else:\n",
    "        pl_m = (1-alpha)*(m**(-alpha))/(m_max**(1-alpha) - m_min**(1-alpha))\n",
    "    idx = np.where((m<m_min)|(m>m_max))[0]\n",
    "    pl_m[idx] = 1e-9\n",
    "    return pl_m\n",
    "\n",
    "def ln_likelyhood(theta, data):\n",
    "    \"\"\"\n",
    "    curving fitting on a histogram of the given data\"\"\"\n",
    "    m_min = 0.5\n",
    "    m_max = theta[0]\n",
    "    alpha = theta[1]\n",
    "    pl_m = pl(data, m_min, m_max, alpha)\n",
    "    #pdb.set_trace()\n",
    "    return np.sum(np.log(pl_m))\n",
    "\n",
    "def ln_posterior(theta, data):\n",
    "    return ln_prior(theta) + ln_likelyhood(theta, data)\n",
    "\n",
    "# use emcee to infer alpha\n",
    "def find_theta(data, theta0=[1, 2], plot_result=True):\n",
    "    steps = 500\n",
    "    nwalkers = 50\n",
    "    ndim = 2\n",
    "    sampler = emcee.EnsembleSampler(nwalkers, ndim, ln_posterior, args=[data])\n",
    "    pos = [np.random.normal((theta0)) for i in range(nwalkers)]\n",
    "    sampler.run_mcmc(pos, steps)\n",
    "    theta = sampler.chain.reshape((-1, ndim))\n",
    "\n",
    "    # plot the best fitting result\n",
    "    if plot_result == True:\n",
    "        plt.clf()\n",
    "        corner.corner(theta, labels=['m_max','alpha'], quantiles=[0.16, 0.5, 0.84], show_titles=True)\n",
    "        alpha_best = np.median(theta[:,1])\n",
    "        alpha_std = np.std(theta[:,1])\n",
    "        print('the best fit value to alpha is (%.2f +/- %.2f)' %(alpha_best, alpha_std))\n",
    "        print('the Kroupa 2001 alpha is (%.2f +/- %.2f)' %(2.3, 0.3))\n",
    "    return "
   ]
  },
  {
   "cell_type": "code",
   "execution_count": 14,
   "metadata": {
    "collapsed": false
   },
   "outputs": [
    {
     "name": "stderr",
     "output_type": "stream",
     "text": [
      "/Users/siyao/anaconda/lib/python3.5/site-packages/ipykernel/__main__.py:19: RuntimeWarning: invalid value encountered in double_scalars\n"
     ]
    },
    {
     "name": "stdout",
     "output_type": "stream",
     "text": [
      "the best fit value to alpha is (2.75 +/- 1.37)\n",
      "the Kroupa 2001 alpha is (2.30 +/- 0.30)\n"
     ]
    },
    {
     "data": {
      "text/plain": [
       "<matplotlib.figure.Figure at 0x10f7c79e8>"
      ]
     },
     "metadata": {},
     "output_type": "display_data"
    },
    {
     "data": {
      "image/png": "[encoded data removed]",
      "text/plain": [
       "<matplotlib.figure.Figure at 0x1103ab160>"
      ]
     },
     "metadata": {},
     "output_type": "display_data"
    }
   ],
   "source": [
    "find_theta(data)\n"
   ]
  }
 ],
 "metadata": {
  "kernelspec": {
   "display_name": "Python [Root]",
   "language": "python",
   "name": "Python [Root]"
  },
  "language_info": {
   "codemirror_mode": {
    "name": "ipython",
    "version": 3
   },
   "file_extension": ".py",
   "mimetype": "text/x-python",
   "name": "python",
   "nbconvert_exporter": "python",
   "pygments_lexer": "ipython3",
   "version": "3.5.2"
  }
 },
 "nbformat": 4,
 "nbformat_minor": 0
}
