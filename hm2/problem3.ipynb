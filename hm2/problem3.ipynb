{
 "cells": [
  {
   "cell_type": "code",
   "execution_count": 6,
   "metadata": {
    "collapsed": true
   },
   "outputs": [],
   "source": [
    "%matplotlib inline\n",
    "import numpy as np\n",
    "from scipy import stats\n",
    "from scipy.optimize import curve_fit\n",
    "import matplotlib.pyplot as plt\n",
    "import emcee\n",
    "import corner\n",
    "import pdb"
   ]
  },
  {
   "cell_type": "markdown",
   "metadata": {},
   "source": [
    "(a)"
   ]
  },
  {
   "cell_type": "code",
   "execution_count": 53,
   "metadata": {
    "collapsed": false
   },
   "outputs": [
    {
     "name": "stdout",
     "output_type": "stream",
     "text": [
      "f(m) = 0.04 * m ^(-1.41)\n"
     ]
    }
   ],
   "source": [
    "m = np.array([2.23, 2.08, 1.93, 1.78, 1.63, 1.48, 1.33, 1.2, 1.09, 1., 0.93, 0.86, 0.8, 0.74, 0.68, 0.62, 0.56, 0.5])\n",
    "eps = np.array([6.63, 7.1, 7.36, 7.52, 7.72, 8., 7.98, 7.98, 8.32, 8.5, 8.6, 8.7, 8.83, 8.97, 9.04, 9.13, 9.2, 9.22])\n",
    "\n",
    "m = 10**(m-1)\n",
    "eps = 10**(eps-10)\n",
    "\n",
    "def func(m, c, alpha):\n",
    "    return c*(m**(-alpha))\n",
    "\n",
    "popt, pcov = curve_fit(func, m, eps)\n",
    "c = popt[0]\n",
    "c_err = np.sqrt(np.diag(pcov))[0]\n",
    "alpha = popt[1]\n",
    "alpha_err = np.sqrt(np.diag(pcov))[1]\n",
    "\n",
    "print('f(m) = %.2f * m ^(-%.2f)' %(c, alpha))"
   ]
  },
  {
   "cell_type": "markdown",
   "metadata": {},
   "source": [
    "(b)"
   ]
  },
  {
   "cell_type": "code",
   "execution_count": 59,
   "metadata": {
    "collapsed": true
   },
   "outputs": [],
   "source": [
    "def ln_prior(theta):\n",
    "    \"\"\"\n",
    "    assume a flat posterior\"\"\"\n",
    "    c = theta[0]\n",
    "    alpha = theta[1]\n",
    "    return 0\n",
    "\n",
    "def ln_likelyhood(theta, m, eps):\n",
    "    \"\"\"\n",
    "    curving fitting on a histogram of the given data\"\"\"\n",
    "    c = theta[0]\n",
    "    alpha = theta[1]\n",
    "    xi = c * (m**(-alpha))\n",
    "    sigma = np.sqrt(eps)\n",
    "    lnp = -(np.log(sigma) + (xi-eps)**2/(2*sigma**2))\n",
    "    return np.sum(lnp)\n",
    "\n",
    "def ln_posterior(theta, m, eps):\n",
    "    return ln_prior(theta) + ln_likelyhood(theta, m, eps)\n",
    "    "
   ]
  },
  {
   "cell_type": "code",
   "execution_count": 69,
   "metadata": {
    "collapsed": false
   },
   "outputs": [
    {
     "name": "stdout",
     "output_type": "stream",
     "text": [
      "Using scipy.optimize, we get: f(m) = (0.04+/-0.00) * m^(-(1.41+/-0.07))\n",
      "Salpeter 1955 gives the best fit: f(m) = 0.03 * m^(-1.35)\n",
      "It is within 2.45 sigma for c, within 0.78 sigma for alpha\n",
      "\n",
      "Using emcee, we get: f(m) = (0.02+/-0.13) * m^(-(1.26+/-1.12))\n",
      "Salpeter 1955 gives the best fit: f(m) = 0.03 * m^(-1.35)\n",
      "It is within 0.05 sigma for c, within 0.08 sigma for alpha\n",
      "\n",
      "Comparing scipy.optimize and emcee, they are within 0.14 sigma for c\n",
      "Comparing scipy.optimize and emcee, they are within 0.13 sigma for alpha\n"
     ]
    }
   ],
   "source": [
    "# generate fake data\n",
    "def find_theta(m , eps, theta0=[0,0]):\n",
    "    # use emcee to infer c and a\n",
    "    steps = 500\n",
    "    nwalkers = 50\n",
    "    ndim = 2\n",
    "    sampler = emcee.EnsembleSampler(nwalkers, ndim, ln_posterior, args=[m, eps])\n",
    "    pos = [np.random.normal((theta0)) for i in range(nwalkers)]\n",
    "    sampler.run_mcmc(pos, steps)\n",
    "    theta = sampler.chain.reshape((-1, ndim))\n",
    "    \n",
    "    return theta\n",
    "\n",
    "theta = find_theta(m , eps)\n",
    "c2 = np.median(theta[:,0])\n",
    "c2_err = np.std(theta[:,0])\n",
    "alpha2 = np.median(theta[:,1])\n",
    "alpha2_err = np.std(theta[:,1])\n",
    "\n",
    "print('Using scipy.optimize, we get: f(m) = (%.2f+/-%.2f) * m^(-(%.2f+/-%.2f))' %(c, c_err, alpha, alpha_err))\n",
    "print('Salpeter 1955 gives the best fit: f(m) = %.2f * m^(-%.2f)' %(0.03, 1.35))\n",
    "c_sigma = (c-0.03)/c_err\n",
    "alpha_sigma = np.abs((alpha-1.35)/alpha_err)\n",
    "print('It is within %.2f sigma for c, within %.2f sigma for alpha\\n' %(c_sigma, alpha_sigma))\n",
    "\n",
    "\n",
    "print('Using emcee, we get: f(m) = (%.2f+/-%.2f) * m^(-(%.2f+/-%.2f))' %(c2, c2_err, alpha2, alpha2_err))\n",
    "print('Salpeter 1955 gives the best fit: f(m) = %.2f * m^(-%.2f)' %(0.03, 1.35))\n",
    "c2_sigma = (c-0.03)/c2_err\n",
    "alpha2_sigma = np.abs((alpha2-1.35)/alpha2_err)\n",
    "print('It is within %.2f sigma for c, within %.2f sigma for alpha\\n' %(c2_sigma, alpha2_sigma))\n",
    "\n",
    "sig_c = np.abs((c2-c)/np.sqrt(c_err**2+c2_err**2))\n",
    "print('Comparing scipy.optimize and emcee, they are within %.2f sigma for c'%(sig_c))\n",
    "sig_alpha = np.abs((alpha2-alpha)/np.sqrt(alpha_err**2+alpha2_err**2))\n",
    "print('Comparing scipy.optimize and emcee, they are within %.2f sigma for alpha' %(sig_alpha))"
   ]
  }
 ],
 "metadata": {
  "anaconda-cloud": {},
  "kernelspec": {
   "display_name": "Python [Root]",
   "language": "python",
   "name": "Python [Root]"
  },
  "language_info": {
   "codemirror_mode": {
    "name": "ipython",
    "version": 3
   },
   "file_extension": ".py",
   "mimetype": "text/x-python",
   "name": "python",
   "nbconvert_exporter": "python",
   "pygments_lexer": "ipython3",
   "version": "3.5.2"
  }
 },
 "nbformat": 4,
 "nbformat_minor": 0
}
