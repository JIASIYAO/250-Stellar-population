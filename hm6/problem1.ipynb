{
 "cells": [
  {
   "cell_type": "markdown",
   "metadata": {},
   "source": [
    "\"G-Dwarf problem\" means the lack of metal-poor G dwarfs in the observation compared to the prediction from the simple closed-box model. Closed-box model means a closed box containing interstellar gas without metal in the beginning evolvs without any outflow or inflow. The deficit of metal-poor stars is a universial phenomenon both in different regions of the galaxy and in different types of galaxy. This may be interpreted from: changes in IMF, inflow from outside, inhomogeneous star formation, instantaneous recycling approximation, or overlooking the thick disk population"
   ]
  }
 ],
 "metadata": {
  "kernelspec": {
   "display_name": "Python 2",
   "language": "python",
   "name": "python2"
  },
  "language_info": {
   "codemirror_mode": {
    "name": "ipython",
    "version": 2
   },
   "file_extension": ".py",
   "mimetype": "text/x-python",
   "name": "python",
   "nbconvert_exporter": "python",
   "pygments_lexer": "ipython2",
   "version": "2.7.12"
  }
 },
 "nbformat": 4,
 "nbformat_minor": 1
}
